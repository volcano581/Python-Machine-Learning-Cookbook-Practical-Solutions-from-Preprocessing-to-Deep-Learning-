{
 "cells": [
  {
   "cell_type": "markdown",
   "id": "4e2f9304",
   "metadata": {},
   "source": [
    "## 1.1 Create vector"
   ]
  },
  {
   "cell_type": "code",
   "execution_count": 1,
   "id": "e104fc96",
   "metadata": {},
   "outputs": [],
   "source": [
    "import numpy as np"
   ]
  },
  {
   "cell_type": "code",
   "execution_count": 2,
   "id": "a13ce440",
   "metadata": {},
   "outputs": [],
   "source": [
    "row_vec = np.array([1,2,3])"
   ]
  },
  {
   "cell_type": "code",
   "execution_count": 3,
   "id": "012c5c51",
   "metadata": {},
   "outputs": [],
   "source": [
    "col_vec = np.array([[1],\n",
    "                   [2],\n",
    "                   [3]])"
   ]
  },
  {
   "cell_type": "code",
   "execution_count": 4,
   "id": "5ad53759",
   "metadata": {},
   "outputs": [
    {
     "data": {
      "text/plain": [
       "array([1, 2, 3])"
      ]
     },
     "execution_count": 4,
     "metadata": {},
     "output_type": "execute_result"
    }
   ],
   "source": [
    "row_vec"
   ]
  },
  {
   "cell_type": "code",
   "execution_count": 5,
   "id": "6969f948",
   "metadata": {},
   "outputs": [
    {
     "data": {
      "text/plain": [
       "array([[1],\n",
       "       [2],\n",
       "       [3]])"
      ]
     },
     "execution_count": 5,
     "metadata": {},
     "output_type": "execute_result"
    }
   ],
   "source": [
    "col_vec"
   ]
  },
  {
   "cell_type": "markdown",
   "id": "e44944d3",
   "metadata": {},
   "source": [
    "## 1.2 Create matrix"
   ]
  },
  {
   "cell_type": "code",
   "execution_count": 6,
   "id": "54f941ea",
   "metadata": {},
   "outputs": [],
   "source": [
    "matrix = np.array([[1,2],\n",
    "                   [3,4]])"
   ]
  },
  {
   "cell_type": "code",
   "execution_count": 7,
   "id": "b1dff361",
   "metadata": {},
   "outputs": [
    {
     "data": {
      "text/plain": [
       "array([[1, 2],\n",
       "       [3, 4]])"
      ]
     },
     "execution_count": 7,
     "metadata": {},
     "output_type": "execute_result"
    }
   ],
   "source": [
    "matrix"
   ]
  },
  {
   "cell_type": "markdown",
   "id": "931fa55c",
   "metadata": {},
   "source": [
    "### Matrix Object"
   ]
  },
  {
   "cell_type": "code",
   "execution_count": 8,
   "id": "450e1926",
   "metadata": {},
   "outputs": [],
   "source": [
    "matrix_obj = np.mat([[1,2],\n",
    "                   [3,4]])"
   ]
  },
  {
   "cell_type": "code",
   "execution_count": 9,
   "id": "de0fc576",
   "metadata": {},
   "outputs": [
    {
     "data": {
      "text/plain": [
       "matrix([[1, 2],\n",
       "        [3, 4]])"
      ]
     },
     "execution_count": 9,
     "metadata": {},
     "output_type": "execute_result"
    }
   ],
   "source": [
    "matrix_obj"
   ]
  },
  {
   "cell_type": "markdown",
   "id": "1efb4cb1",
   "metadata": {},
   "source": [
    "### 1.3 Sparse Matrix"
   ]
  },
  {
   "cell_type": "code",
   "execution_count": 13,
   "id": "7b59caad",
   "metadata": {},
   "outputs": [],
   "source": [
    "from scipy import sparse"
   ]
  },
  {
   "cell_type": "code",
   "execution_count": 12,
   "id": "df79f4fb",
   "metadata": {},
   "outputs": [],
   "source": [
    "matrix = np.array([[0,0],\n",
    "                   [3,0],\n",
    "                  [0,6]])"
   ]
  },
  {
   "cell_type": "code",
   "execution_count": 14,
   "id": "b64fd082",
   "metadata": {},
   "outputs": [],
   "source": [
    "matrix_sparse = sparse.csr_matrix(matrix)"
   ]
  },
  {
   "cell_type": "code",
   "execution_count": 16,
   "id": "00eaca8b",
   "metadata": {},
   "outputs": [
    {
     "name": "stdout",
     "output_type": "stream",
     "text": [
      "  (1, 0)\t3\n",
      "  (2, 1)\t6\n"
     ]
    }
   ],
   "source": [
    "print(matrix_sparse)"
   ]
  },
  {
   "cell_type": "code",
   "execution_count": 17,
   "id": "29a3265f",
   "metadata": {},
   "outputs": [],
   "source": [
    "matrix_large = np.array([[0,0,0,0,0,0,0,0],\n",
    "                   [3,0,0,0,0,0,0,0],\n",
    "                  [0,6,0,0,0,0,0,0]])"
   ]
  },
  {
   "cell_type": "code",
   "execution_count": 18,
   "id": "40afad9d",
   "metadata": {},
   "outputs": [],
   "source": [
    "matrix_large_sparse = sparse.csr_matrix(matrix_large)"
   ]
  },
  {
   "cell_type": "code",
   "execution_count": 19,
   "id": "ffe6ae01",
   "metadata": {},
   "outputs": [
    {
     "name": "stdout",
     "output_type": "stream",
     "text": [
      "  (1, 0)\t3\n",
      "  (2, 1)\t6\n"
     ]
    }
   ],
   "source": [
    "print(matrix_large_sparse)"
   ]
  },
  {
   "cell_type": "markdown",
   "id": "245c265b",
   "metadata": {},
   "source": [
    "## Pre-Allocate Numpy Arrays"
   ]
  },
  {
   "cell_type": "markdown",
   "id": "fbe4c618",
   "metadata": {},
   "source": [
    "### Zero Vector"
   ]
  },
  {
   "cell_type": "code",
   "execution_count": 20,
   "id": "81da01e1",
   "metadata": {},
   "outputs": [],
   "source": [
    "vector = np.zeros(5)"
   ]
  },
  {
   "cell_type": "code",
   "execution_count": 24,
   "id": "9538db1f",
   "metadata": {
    "scrolled": true
   },
   "outputs": [
    {
     "data": {
      "text/plain": [
       "array([0., 0., 0., 0., 0.])"
      ]
     },
     "execution_count": 24,
     "metadata": {},
     "output_type": "execute_result"
    }
   ],
   "source": [
    "vector"
   ]
  },
  {
   "cell_type": "markdown",
   "id": "d7146d1b",
   "metadata": {},
   "source": [
    "### Fill matrix with single value"
   ]
  },
  {
   "cell_type": "code",
   "execution_count": 22,
   "id": "7852502a",
   "metadata": {},
   "outputs": [],
   "source": [
    "matrix = np.full(shape = (3,3), fill_value = 1)"
   ]
  },
  {
   "cell_type": "code",
   "execution_count": 23,
   "id": "b2c531eb",
   "metadata": {},
   "outputs": [
    {
     "data": {
      "text/plain": [
       "array([[1, 1, 1],\n",
       "       [1, 1, 1],\n",
       "       [1, 1, 1]])"
      ]
     },
     "execution_count": 23,
     "metadata": {},
     "output_type": "execute_result"
    }
   ],
   "source": [
    "matrix"
   ]
  },
  {
   "cell_type": "markdown",
   "id": "0c175719",
   "metadata": {},
   "source": [
    "## 1.4 Selecting Elements"
   ]
  },
  {
   "cell_type": "code",
   "execution_count": 25,
   "id": "7ca574bd",
   "metadata": {},
   "outputs": [],
   "source": [
    "vector = np.array([1,2,3,4,5,6])"
   ]
  },
  {
   "cell_type": "code",
   "execution_count": 26,
   "id": "90b3f1d0",
   "metadata": {},
   "outputs": [],
   "source": [
    "matrix = np.array([[1,2,3],\n",
    "                  [4,5,6],\n",
    "                  [7,8,9]])"
   ]
  },
  {
   "cell_type": "code",
   "execution_count": 30,
   "id": "850b106e",
   "metadata": {},
   "outputs": [
    {
     "data": {
      "text/plain": [
       "3"
      ]
     },
     "execution_count": 30,
     "metadata": {},
     "output_type": "execute_result"
    }
   ],
   "source": [
    "vector[2]"
   ]
  },
  {
   "cell_type": "code",
   "execution_count": 31,
   "id": "f0a5ddef",
   "metadata": {},
   "outputs": [
    {
     "data": {
      "text/plain": [
       "array([4, 5, 6])"
      ]
     },
     "execution_count": 31,
     "metadata": {},
     "output_type": "execute_result"
    }
   ],
   "source": [
    "vector[3:]"
   ]
  },
  {
   "cell_type": "code",
   "execution_count": 32,
   "id": "509c9898",
   "metadata": {},
   "outputs": [
    {
     "data": {
      "text/plain": [
       "5"
      ]
     },
     "execution_count": 32,
     "metadata": {},
     "output_type": "execute_result"
    }
   ],
   "source": [
    "matrix[1,1]"
   ]
  },
  {
   "cell_type": "code",
   "execution_count": 33,
   "id": "05b62322",
   "metadata": {},
   "outputs": [
    {
     "data": {
      "text/plain": [
       "6"
      ]
     },
     "execution_count": 33,
     "metadata": {},
     "output_type": "execute_result"
    }
   ],
   "source": [
    "vector[-1]"
   ]
  },
  {
   "cell_type": "code",
   "execution_count": 34,
   "id": "f24b3ed9",
   "metadata": {},
   "outputs": [
    {
     "data": {
      "text/plain": [
       "array([3, 6, 9])"
      ]
     },
     "execution_count": 34,
     "metadata": {},
     "output_type": "execute_result"
    }
   ],
   "source": [
    "matrix[:,2]"
   ]
  },
  {
   "cell_type": "code",
   "execution_count": 36,
   "id": "bf24b32f",
   "metadata": {},
   "outputs": [
    {
     "data": {
      "text/plain": [
       "array([6, 5, 4, 3, 2, 1])"
      ]
     },
     "execution_count": 36,
     "metadata": {},
     "output_type": "execute_result"
    }
   ],
   "source": [
    "vector[-1::-1]"
   ]
  },
  {
   "cell_type": "code",
   "execution_count": 37,
   "id": "22ae2af5",
   "metadata": {},
   "outputs": [
    {
     "data": {
      "text/plain": [
       "array([2, 4, 6])"
      ]
     },
     "execution_count": 37,
     "metadata": {},
     "output_type": "execute_result"
    }
   ],
   "source": [
    "vector[1::2]"
   ]
  },
  {
   "cell_type": "code",
   "execution_count": 38,
   "id": "e5669f73",
   "metadata": {},
   "outputs": [
    {
     "data": {
      "text/plain": [
       "array([[2],\n",
       "       [5],\n",
       "       [8]])"
      ]
     },
     "execution_count": 38,
     "metadata": {},
     "output_type": "execute_result"
    }
   ],
   "source": [
    "matrix[:,1:2]"
   ]
  },
  {
   "cell_type": "markdown",
   "id": "d40a03d0",
   "metadata": {},
   "source": [
    "## 1.5 Describing a Matrix"
   ]
  },
  {
   "cell_type": "code",
   "execution_count": 43,
   "id": "c4ec5b07",
   "metadata": {},
   "outputs": [],
   "source": [
    "matrix = np.array([[1,2,3],\n",
    "                  [4,5,6],\n",
    "                  [7,8,9]])"
   ]
  },
  {
   "cell_type": "markdown",
   "id": "eab68e52",
   "metadata": {},
   "source": [
    "### Shape of Matrix"
   ]
  },
  {
   "cell_type": "code",
   "execution_count": 44,
   "id": "89d8a361",
   "metadata": {},
   "outputs": [
    {
     "data": {
      "text/plain": [
       "(3, 3)"
      ]
     },
     "execution_count": 44,
     "metadata": {},
     "output_type": "execute_result"
    }
   ],
   "source": [
    "matrix.shape"
   ]
  },
  {
   "cell_type": "markdown",
   "id": "efa21546",
   "metadata": {},
   "source": [
    "### Size of Matrix"
   ]
  },
  {
   "cell_type": "code",
   "execution_count": 45,
   "id": "7fd6a61f",
   "metadata": {
    "scrolled": true
   },
   "outputs": [
    {
     "data": {
      "text/plain": [
       "9"
      ]
     },
     "execution_count": 45,
     "metadata": {},
     "output_type": "execute_result"
    }
   ],
   "source": [
    "matrix.size"
   ]
  },
  {
   "cell_type": "markdown",
   "id": "46017d8c",
   "metadata": {},
   "source": [
    "### Dimensions of matrix"
   ]
  },
  {
   "cell_type": "code",
   "execution_count": 42,
   "id": "7b6d8ffb",
   "metadata": {},
   "outputs": [
    {
     "data": {
      "text/plain": [
       "2"
      ]
     },
     "execution_count": 42,
     "metadata": {},
     "output_type": "execute_result"
    }
   ],
   "source": [
    "matrix.ndim"
   ]
  },
  {
   "cell_type": "markdown",
   "id": "7a696055",
   "metadata": {},
   "source": [
    "##  1.6 Applying Operations over each element"
   ]
  },
  {
   "cell_type": "markdown",
   "id": "d5f1c3ad",
   "metadata": {},
   "source": [
    "### Numpy's vectorize method"
   ]
  },
  {
   "cell_type": "code",
   "execution_count": 46,
   "id": "09231b46",
   "metadata": {},
   "outputs": [],
   "source": [
    "matrix = np.array([[1,2,3],\n",
    "                  [4,5,6],\n",
    "                  [7,8,9]])"
   ]
  },
  {
   "cell_type": "markdown",
   "id": "2e105baa",
   "metadata": {},
   "source": [
    "### Lambda function"
   ]
  },
  {
   "cell_type": "code",
   "execution_count": 49,
   "id": "bc67ec72",
   "metadata": {},
   "outputs": [],
   "source": [
    "add_100 = lambda i: i+100"
   ]
  },
  {
   "cell_type": "markdown",
   "id": "194abfe6",
   "metadata": {},
   "source": [
    "### Create Vectorized function"
   ]
  },
  {
   "cell_type": "code",
   "execution_count": 50,
   "id": "990f8211",
   "metadata": {},
   "outputs": [],
   "source": [
    "vectorized_add_100 = np.vectorize(add_100)"
   ]
  },
  {
   "cell_type": "markdown",
   "id": "b56ead53",
   "metadata": {},
   "source": [
    "### Apply function to all elements in matrix"
   ]
  },
  {
   "cell_type": "code",
   "execution_count": 53,
   "id": "cddf4f69",
   "metadata": {},
   "outputs": [],
   "source": [
    "result = vectorized_add_100(matrix)"
   ]
  },
  {
   "cell_type": "code",
   "execution_count": 56,
   "id": "465c6dbb",
   "metadata": {},
   "outputs": [
    {
     "data": {
      "text/plain": [
       "array([[101, 102, 103],\n",
       "       [104, 105, 106],\n",
       "       [107, 108, 109]])"
      ]
     },
     "execution_count": 56,
     "metadata": {},
     "output_type": "execute_result"
    }
   ],
   "source": [
    "result"
   ]
  },
  {
   "cell_type": "markdown",
   "id": "8c6868a8",
   "metadata": {},
   "source": [
    "### Alternate approach :  Broadcasting"
   ]
  },
  {
   "cell_type": "code",
   "execution_count": 55,
   "id": "63daab2e",
   "metadata": {},
   "outputs": [
    {
     "data": {
      "text/plain": [
       "array([[101, 102, 103],\n",
       "       [104, 105, 106],\n",
       "       [107, 108, 109]])"
      ]
     },
     "execution_count": 55,
     "metadata": {},
     "output_type": "execute_result"
    }
   ],
   "source": [
    "matrix + 100"
   ]
  },
  {
   "cell_type": "markdown",
   "id": "5ef1bda4",
   "metadata": {},
   "source": [
    "## 1.7 Finding max and min"
   ]
  },
  {
   "cell_type": "code",
   "execution_count": 57,
   "id": "6ead2141",
   "metadata": {},
   "outputs": [
    {
     "data": {
      "text/plain": [
       "9"
      ]
     },
     "execution_count": 57,
     "metadata": {},
     "output_type": "execute_result"
    }
   ],
   "source": [
    "np.max(matrix)"
   ]
  },
  {
   "cell_type": "code",
   "execution_count": 62,
   "id": "9c5fb8ef",
   "metadata": {},
   "outputs": [
    {
     "data": {
      "text/plain": [
       "1"
      ]
     },
     "execution_count": 62,
     "metadata": {},
     "output_type": "execute_result"
    }
   ],
   "source": [
    "np.min(matrix)"
   ]
  },
  {
   "cell_type": "markdown",
   "id": "81076eb5",
   "metadata": {},
   "source": [
    "## 1.8 Calculating the Average, Variance, and Standard Deviation"
   ]
  },
  {
   "cell_type": "code",
   "execution_count": 59,
   "id": "cfd04c63",
   "metadata": {},
   "outputs": [
    {
     "data": {
      "text/plain": [
       "5.0"
      ]
     },
     "execution_count": 59,
     "metadata": {},
     "output_type": "execute_result"
    }
   ],
   "source": [
    "np.mean(matrix)"
   ]
  },
  {
   "cell_type": "code",
   "execution_count": 60,
   "id": "dfa17d5e",
   "metadata": {},
   "outputs": [
    {
     "data": {
      "text/plain": [
       "6.666666666666667"
      ]
     },
     "execution_count": 60,
     "metadata": {},
     "output_type": "execute_result"
    }
   ],
   "source": [
    "np.var(matrix)"
   ]
  },
  {
   "cell_type": "code",
   "execution_count": 61,
   "id": "91913d6c",
   "metadata": {},
   "outputs": [
    {
     "data": {
      "text/plain": [
       "2.581988897471611"
      ]
     },
     "execution_count": 61,
     "metadata": {},
     "output_type": "execute_result"
    }
   ],
   "source": [
    "np.std(matrix)"
   ]
  },
  {
   "cell_type": "markdown",
   "id": "e3792b84",
   "metadata": {},
   "source": [
    "## 1.9 Reshaping Arrays"
   ]
  },
  {
   "cell_type": "code",
   "execution_count": 65,
   "id": "31a8c4ab",
   "metadata": {},
   "outputs": [],
   "source": [
    "matrix = np.array([[1,2,3],\n",
    "                  [4,5,6],\n",
    "                  [7,8,9],\n",
    "                  [10,11,12]])"
   ]
  },
  {
   "cell_type": "code",
   "execution_count": 66,
   "id": "ae68950d",
   "metadata": {},
   "outputs": [
    {
     "data": {
      "text/plain": [
       "array([[ 1,  2,  3,  4,  5,  6],\n",
       "       [ 7,  8,  9, 10, 11, 12]])"
      ]
     },
     "execution_count": 66,
     "metadata": {},
     "output_type": "execute_result"
    }
   ],
   "source": [
    "matrix.reshape(2,6)"
   ]
  },
  {
   "cell_type": "code",
   "execution_count": 69,
   "id": "7117bf66",
   "metadata": {},
   "outputs": [
    {
     "data": {
      "text/plain": [
       "array([[ 1,  2,  3,  4,  5,  6,  7,  8,  9, 10, 11, 12]])"
      ]
     },
     "execution_count": 69,
     "metadata": {},
     "output_type": "execute_result"
    }
   ],
   "source": [
    "matrix.reshape(-1,12)"
   ]
  },
  {
   "cell_type": "code",
   "execution_count": 70,
   "id": "bc09a9b1",
   "metadata": {},
   "outputs": [
    {
     "data": {
      "text/plain": [
       "2"
      ]
     },
     "execution_count": 70,
     "metadata": {},
     "output_type": "execute_result"
    }
   ],
   "source": [
    "matrix.ndim"
   ]
  },
  {
   "cell_type": "code",
   "execution_count": 71,
   "id": "67b77648",
   "metadata": {},
   "outputs": [
    {
     "data": {
      "text/plain": [
       "array([[1, 2, 3],\n",
       "       [4, 5, 6]])"
      ]
     },
     "execution_count": 71,
     "metadata": {},
     "output_type": "execute_result"
    }
   ],
   "source": [
    "vector.reshape(2,3)"
   ]
  },
  {
   "cell_type": "code",
   "execution_count": 72,
   "id": "6b80d228",
   "metadata": {},
   "outputs": [
    {
     "data": {
      "text/plain": [
       "array([[1, 2, 3, 4, 5, 6]])"
      ]
     },
     "execution_count": 72,
     "metadata": {},
     "output_type": "execute_result"
    }
   ],
   "source": [
    "vector.reshape(1,6)"
   ]
  },
  {
   "cell_type": "code",
   "execution_count": 73,
   "id": "afaf93a0",
   "metadata": {},
   "outputs": [
    {
     "data": {
      "text/plain": [
       "array([1, 2, 3, 4, 5, 6])"
      ]
     },
     "execution_count": 73,
     "metadata": {},
     "output_type": "execute_result"
    }
   ],
   "source": [
    "vector.reshape(6)"
   ]
  },
  {
   "cell_type": "code",
   "execution_count": 74,
   "id": "bfe66fff",
   "metadata": {},
   "outputs": [],
   "source": [
    "vector = np.array([1,2,3,4,5,6,7,8])"
   ]
  },
  {
   "cell_type": "code",
   "execution_count": 78,
   "id": "366c424a",
   "metadata": {},
   "outputs": [],
   "source": [
    "vec3d = vector.reshape(2,2,2)"
   ]
  },
  {
   "cell_type": "code",
   "execution_count": 83,
   "id": "d5bf7890",
   "metadata": {},
   "outputs": [
    {
     "data": {
      "text/plain": [
       "3"
      ]
     },
     "execution_count": 83,
     "metadata": {},
     "output_type": "execute_result"
    }
   ],
   "source": [
    "vec3d.ndim"
   ]
  },
  {
   "cell_type": "markdown",
   "id": "37e2dbda",
   "metadata": {},
   "source": [
    "## 1.10 Transposing a Vector or Matrix"
   ]
  },
  {
   "cell_type": "code",
   "execution_count": 80,
   "id": "e36a5d86",
   "metadata": {},
   "outputs": [
    {
     "data": {
      "text/plain": [
       "array([[ 1,  4,  7, 10],\n",
       "       [ 2,  5,  8, 11],\n",
       "       [ 3,  6,  9, 12]])"
      ]
     },
     "execution_count": 80,
     "metadata": {},
     "output_type": "execute_result"
    }
   ],
   "source": [
    "matrix.T"
   ]
  },
  {
   "cell_type": "code",
   "execution_count": 81,
   "id": "4a7216b1",
   "metadata": {},
   "outputs": [
    {
     "data": {
      "text/plain": [
       "(4, 3)"
      ]
     },
     "execution_count": 81,
     "metadata": {},
     "output_type": "execute_result"
    }
   ],
   "source": [
    "matrix.shape"
   ]
  },
  {
   "cell_type": "code",
   "execution_count": 82,
   "id": "6d804a76",
   "metadata": {},
   "outputs": [
    {
     "data": {
      "text/plain": [
       "(3, 4)"
      ]
     },
     "execution_count": 82,
     "metadata": {},
     "output_type": "execute_result"
    }
   ],
   "source": [
    "matrix.T.shape"
   ]
  },
  {
   "cell_type": "code",
   "execution_count": 84,
   "id": "51861275",
   "metadata": {},
   "outputs": [],
   "source": [
    "vector = np.array([1,2,3,4,5,6])"
   ]
  },
  {
   "cell_type": "code",
   "execution_count": 85,
   "id": "19e028ae",
   "metadata": {},
   "outputs": [
    {
     "data": {
      "text/plain": [
       "array([1, 2, 3, 4, 5, 6])"
      ]
     },
     "execution_count": 85,
     "metadata": {},
     "output_type": "execute_result"
    }
   ],
   "source": [
    "vector.T"
   ]
  },
  {
   "cell_type": "code",
   "execution_count": 86,
   "id": "5c8b3f03",
   "metadata": {},
   "outputs": [],
   "source": [
    "rowVec = np.array([[1,2,3,4,5,6]])"
   ]
  },
  {
   "cell_type": "code",
   "execution_count": 87,
   "id": "251295b0",
   "metadata": {},
   "outputs": [
    {
     "data": {
      "text/plain": [
       "array([[1],\n",
       "       [2],\n",
       "       [3],\n",
       "       [4],\n",
       "       [5],\n",
       "       [6]])"
      ]
     },
     "execution_count": 87,
     "metadata": {},
     "output_type": "execute_result"
    }
   ],
   "source": [
    "rowVec.T"
   ]
  },
  {
   "cell_type": "markdown",
   "id": "d5954668",
   "metadata": {},
   "source": [
    "## 1.11 Flattening a Matrix"
   ]
  },
  {
   "cell_type": "code",
   "execution_count": 88,
   "id": "bbeca6f1",
   "metadata": {},
   "outputs": [],
   "source": [
    "matrix = np.array([[1,2,3],\n",
    "                  [4,5,6],\n",
    "                  [7,8,9]])"
   ]
  },
  {
   "cell_type": "code",
   "execution_count": 95,
   "id": "08a16e6c",
   "metadata": {},
   "outputs": [
    {
     "data": {
      "text/plain": [
       "array([1, 2, 3, 4, 5, 6, 7, 8, 9])"
      ]
     },
     "execution_count": 95,
     "metadata": {},
     "output_type": "execute_result"
    }
   ],
   "source": [
    "matrix.flatten()"
   ]
  },
  {
   "cell_type": "code",
   "execution_count": 100,
   "id": "09d1c76b",
   "metadata": {},
   "outputs": [
    {
     "data": {
      "text/plain": [
       "numpy.ndarray"
      ]
     },
     "execution_count": 100,
     "metadata": {},
     "output_type": "execute_result"
    }
   ],
   "source": [
    "type(matrix)"
   ]
  },
  {
   "cell_type": "markdown",
   "id": "ac9f54e3",
   "metadata": {},
   "source": [
    "## Alternative to flatten : Ravel\n",
    "operates on original object, faster"
   ]
  },
  {
   "cell_type": "code",
   "execution_count": 98,
   "id": "7ebe863d",
   "metadata": {},
   "outputs": [
    {
     "data": {
      "text/plain": [
       "array([1, 2, 3, 4, 5, 6, 7, 8, 9])"
      ]
     },
     "execution_count": 98,
     "metadata": {},
     "output_type": "execute_result"
    }
   ],
   "source": [
    "np.ravel(matrix)"
   ]
  },
  {
   "cell_type": "code",
   "execution_count": 102,
   "id": "079ec7fd",
   "metadata": {},
   "outputs": [],
   "source": [
    "matrix_a = np.array([[1,2],\n",
    "                   [3,4]])"
   ]
  },
  {
   "cell_type": "code",
   "execution_count": 103,
   "id": "9a2f401f",
   "metadata": {},
   "outputs": [],
   "source": [
    "matrix_b = np.array([[5,6],\n",
    "                   [7,8]])"
   ]
  },
  {
   "cell_type": "code",
   "execution_count": 104,
   "id": "32570a2c",
   "metadata": {},
   "outputs": [],
   "source": [
    "matrix_list = [matrix_a, matrix_b]"
   ]
  },
  {
   "cell_type": "code",
   "execution_count": 105,
   "id": "0f1eff6d",
   "metadata": {},
   "outputs": [
    {
     "data": {
      "text/plain": [
       "array([1, 2, 3, 4, 5, 6, 7, 8])"
      ]
     },
     "execution_count": 105,
     "metadata": {},
     "output_type": "execute_result"
    }
   ],
   "source": [
    "np.ravel(matrix_list)"
   ]
  },
  {
   "cell_type": "markdown",
   "id": "2d65cfb1",
   "metadata": {},
   "source": [
    "## Linear Algebra on Matrices"
   ]
  },
  {
   "cell_type": "code",
   "execution_count": 108,
   "id": "3bbfc15e",
   "metadata": {},
   "outputs": [],
   "source": [
    "matrix = np.array([[1,2,3],\n",
    "                  [4,5,6],\n",
    "                  [7,8,9]])"
   ]
  },
  {
   "cell_type": "markdown",
   "id": "c8dce9af",
   "metadata": {},
   "source": [
    "## 1.12 Finding the Rank of a Matrix"
   ]
  },
  {
   "cell_type": "code",
   "execution_count": 109,
   "id": "aee0149e",
   "metadata": {},
   "outputs": [
    {
     "data": {
      "text/plain": [
       "2"
      ]
     },
     "execution_count": 109,
     "metadata": {},
     "output_type": "execute_result"
    }
   ],
   "source": [
    "np.linalg.matrix_rank(matrix)"
   ]
  },
  {
   "cell_type": "markdown",
   "id": "6d4d2e2a",
   "metadata": {},
   "source": [
    "## 1.14 Getting the Diagonal of a Matrix"
   ]
  },
  {
   "cell_type": "code",
   "execution_count": 112,
   "id": "3eecb535",
   "metadata": {},
   "outputs": [
    {
     "data": {
      "text/plain": [
       "array([1, 5, 9])"
      ]
     },
     "execution_count": 112,
     "metadata": {},
     "output_type": "execute_result"
    }
   ],
   "source": [
    "matrix.diagonal()"
   ]
  },
  {
   "cell_type": "markdown",
   "id": "c65ad83e",
   "metadata": {},
   "source": [
    "#### Offset Diagonal"
   ]
  },
  {
   "cell_type": "code",
   "execution_count": 111,
   "id": "712c2cd4",
   "metadata": {},
   "outputs": [
    {
     "data": {
      "text/plain": [
       "array([2, 6])"
      ]
     },
     "execution_count": 111,
     "metadata": {},
     "output_type": "execute_result"
    }
   ],
   "source": [
    "matrix.diagonal(offset = 1)"
   ]
  },
  {
   "cell_type": "markdown",
   "id": "e1892dc4",
   "metadata": {},
   "source": [
    "## 1.15 Calculating the Trace of a Matrix"
   ]
  },
  {
   "cell_type": "code",
   "execution_count": 113,
   "id": "cf5e6adc",
   "metadata": {},
   "outputs": [
    {
     "data": {
      "text/plain": [
       "15"
      ]
     },
     "execution_count": 113,
     "metadata": {},
     "output_type": "execute_result"
    }
   ],
   "source": [
    "matrix.trace()\n",
    "# Sum of diagonal elements"
   ]
  },
  {
   "cell_type": "code",
   "execution_count": 114,
   "id": "63f7aca1",
   "metadata": {},
   "outputs": [
    {
     "data": {
      "text/plain": [
       "15"
      ]
     },
     "execution_count": 114,
     "metadata": {},
     "output_type": "execute_result"
    }
   ],
   "source": [
    "sum(matrix.diagonal())"
   ]
  },
  {
   "cell_type": "markdown",
   "id": "6c891bc7",
   "metadata": {},
   "source": [
    "## 1.17 Calculating Dot Products"
   ]
  },
  {
   "cell_type": "code",
   "execution_count": 115,
   "id": "c7e225a9",
   "metadata": {},
   "outputs": [],
   "source": [
    "vector_a = np.array([1,2,3])\n",
    "vector_b = np.array([4,5,6])"
   ]
  },
  {
   "cell_type": "code",
   "execution_count": 116,
   "id": "29280514",
   "metadata": {},
   "outputs": [
    {
     "data": {
      "text/plain": [
       "32"
      ]
     },
     "execution_count": 116,
     "metadata": {},
     "output_type": "execute_result"
    }
   ],
   "source": [
    "np.dot(vector_a, vector_b)"
   ]
  },
  {
   "cell_type": "code",
   "execution_count": 117,
   "id": "63fb1b54",
   "metadata": {},
   "outputs": [
    {
     "data": {
      "text/plain": [
       "32"
      ]
     },
     "execution_count": 117,
     "metadata": {},
     "output_type": "execute_result"
    }
   ],
   "source": [
    "vector_a @ vector_b"
   ]
  },
  {
   "cell_type": "markdown",
   "id": "2afad35e",
   "metadata": {},
   "source": [
    "## 1.18 Adding and Subtracting Matrices"
   ]
  },
  {
   "cell_type": "code",
   "execution_count": 120,
   "id": "093e6dc5",
   "metadata": {},
   "outputs": [],
   "source": [
    "matrix_a = np.array([[1,2],\n",
    "                   [3,4]])"
   ]
  },
  {
   "cell_type": "code",
   "execution_count": 121,
   "id": "e5068af8",
   "metadata": {},
   "outputs": [],
   "source": [
    "matrix_b = np.array([[5,6],\n",
    "                   [7,8]])"
   ]
  },
  {
   "cell_type": "code",
   "execution_count": 124,
   "id": "3b5a3644",
   "metadata": {},
   "outputs": [
    {
     "data": {
      "text/plain": [
       "array([[ 6,  8],\n",
       "       [10, 12]])"
      ]
     },
     "execution_count": 124,
     "metadata": {},
     "output_type": "execute_result"
    }
   ],
   "source": [
    "np.add(matrix_a, matrix_b)"
   ]
  },
  {
   "cell_type": "code",
   "execution_count": 125,
   "id": "df35f226",
   "metadata": {},
   "outputs": [
    {
     "data": {
      "text/plain": [
       "array([[ 6,  8],\n",
       "       [10, 12]])"
      ]
     },
     "execution_count": 125,
     "metadata": {},
     "output_type": "execute_result"
    }
   ],
   "source": [
    "matrix_a + matrix_b"
   ]
  },
  {
   "cell_type": "code",
   "execution_count": 123,
   "id": "4bb669c8",
   "metadata": {},
   "outputs": [
    {
     "data": {
      "text/plain": [
       "array([[-4, -4],\n",
       "       [-4, -4]])"
      ]
     },
     "execution_count": 123,
     "metadata": {},
     "output_type": "execute_result"
    }
   ],
   "source": [
    "np.subtract(matrix_a, matrix_b)"
   ]
  },
  {
   "cell_type": "code",
   "execution_count": 129,
   "id": "c90c3fa6",
   "metadata": {},
   "outputs": [
    {
     "data": {
      "text/plain": [
       "array([[-4, -4],\n",
       "       [-4, -4]])"
      ]
     },
     "execution_count": 129,
     "metadata": {},
     "output_type": "execute_result"
    }
   ],
   "source": [
    "matrix_a - matrix_b"
   ]
  },
  {
   "cell_type": "markdown",
   "id": "0acf9ed0",
   "metadata": {},
   "source": [
    "## 1.19 Multiplying Matrices"
   ]
  },
  {
   "cell_type": "code",
   "execution_count": 127,
   "id": "e6d2a2ff",
   "metadata": {},
   "outputs": [
    {
     "data": {
      "text/plain": [
       "array([[19, 22],\n",
       "       [43, 50]])"
      ]
     },
     "execution_count": 127,
     "metadata": {},
     "output_type": "execute_result"
    }
   ],
   "source": [
    "np.dot(matrix_a, matrix_b)"
   ]
  },
  {
   "cell_type": "code",
   "execution_count": 128,
   "id": "accd69b4",
   "metadata": {},
   "outputs": [
    {
     "data": {
      "text/plain": [
       "array([[19, 22],\n",
       "       [43, 50]])"
      ]
     },
     "execution_count": 128,
     "metadata": {},
     "output_type": "execute_result"
    }
   ],
   "source": [
    "matrix_a @ matrix_b"
   ]
  },
  {
   "cell_type": "markdown",
   "id": "70320a72",
   "metadata": {},
   "source": [
    "## 1.20 Inverting a Matrix"
   ]
  },
  {
   "cell_type": "code",
   "execution_count": 131,
   "id": "f5dc338d",
   "metadata": {},
   "outputs": [
    {
     "data": {
      "text/plain": [
       "array([[-2. ,  1. ],\n",
       "       [ 1.5, -0.5]])"
      ]
     },
     "execution_count": 131,
     "metadata": {},
     "output_type": "execute_result"
    }
   ],
   "source": [
    "np.linalg.inv(matrix_a)"
   ]
  },
  {
   "cell_type": "code",
   "execution_count": 133,
   "id": "dabb442d",
   "metadata": {},
   "outputs": [
    {
     "data": {
      "text/plain": [
       "array([[1.00000000e+00, 1.11022302e-16],\n",
       "       [0.00000000e+00, 1.00000000e+00]])"
      ]
     },
     "execution_count": 133,
     "metadata": {},
     "output_type": "execute_result"
    }
   ],
   "source": [
    "matrix_a @ np.linalg.inv(matrix_a)"
   ]
  },
  {
   "cell_type": "markdown",
   "id": "3992e4a3",
   "metadata": {},
   "source": [
    "## 1.21 Generating Random Values"
   ]
  },
  {
   "cell_type": "code",
   "execution_count": 134,
   "id": "9792d955",
   "metadata": {},
   "outputs": [],
   "source": [
    "np.random.seed(0)"
   ]
  },
  {
   "cell_type": "code",
   "execution_count": 135,
   "id": "44e417f1",
   "metadata": {},
   "outputs": [
    {
     "data": {
      "text/plain": [
       "array([0.5488135 , 0.71518937, 0.60276338])"
      ]
     },
     "execution_count": 135,
     "metadata": {},
     "output_type": "execute_result"
    }
   ],
   "source": [
    "np.random.random(3)"
   ]
  },
  {
   "cell_type": "markdown",
   "id": "87253cf9",
   "metadata": {},
   "source": [
    "## Random Integer"
   ]
  },
  {
   "cell_type": "code",
   "execution_count": 136,
   "id": "d7a2740c",
   "metadata": {},
   "outputs": [
    {
     "data": {
      "text/plain": [
       "array([3, 7, 9])"
      ]
     },
     "execution_count": 136,
     "metadata": {},
     "output_type": "execute_result"
    }
   ],
   "source": [
    "np.random.randint(0,11,3)"
   ]
  },
  {
   "cell_type": "markdown",
   "id": "7b94896a",
   "metadata": {},
   "source": [
    "## Random numbers from Normal distribution"
   ]
  },
  {
   "cell_type": "code",
   "execution_count": 137,
   "id": "ee590885",
   "metadata": {},
   "outputs": [
    {
     "data": {
      "text/plain": [
       "array([-1.42232584,  1.52006949, -0.29139398])"
      ]
     },
     "execution_count": 137,
     "metadata": {},
     "output_type": "execute_result"
    }
   ],
   "source": [
    "np.random.normal(0,1,3)"
   ]
  },
  {
   "cell_type": "markdown",
   "id": "ac2fb345",
   "metadata": {},
   "source": [
    "## Random numbers from logistic distribution"
   ]
  },
  {
   "cell_type": "code",
   "execution_count": 138,
   "id": "1efd4fd1",
   "metadata": {},
   "outputs": [
    {
     "data": {
      "text/plain": [
       "array([-0.98118713, -0.08939902,  1.46416405])"
      ]
     },
     "execution_count": 138,
     "metadata": {},
     "output_type": "execute_result"
    }
   ],
   "source": [
    "np.random.logistic(0,1,3)"
   ]
  },
  {
   "cell_type": "markdown",
   "id": "88164bb2",
   "metadata": {},
   "source": [
    "## Random numbers from Uniform distribution"
   ]
  },
  {
   "cell_type": "code",
   "execution_count": null,
   "id": "6ddff528",
   "metadata": {},
   "outputs": [],
   "source": [
    "np.rando"
   ]
  }
 ],
 "metadata": {
  "kernelspec": {
   "display_name": "Python 3 (ipykernel)",
   "language": "python",
   "name": "python3"
  },
  "language_info": {
   "codemirror_mode": {
    "name": "ipython",
    "version": 3
   },
   "file_extension": ".py",
   "mimetype": "text/x-python",
   "name": "python",
   "nbconvert_exporter": "python",
   "pygments_lexer": "ipython3",
   "version": "3.9.13"
  }
 },
 "nbformat": 4,
 "nbformat_minor": 5
}
